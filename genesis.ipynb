{
 "cells": [
  {
   "cell_type": "code",
   "execution_count": null,
   "metadata": {},
   "outputs": [],
   "source": []
  },
  {
   "cell_type": "code",
   "execution_count": 21,
   "metadata": {},
   "outputs": [
    {
     "name": "stdout",
     "output_type": "stream",
     "text": [
      "Hello Universes\n"
     ]
    }
   ],
   "source": [
    "print('Hello Universes')"
   ]
  },
  {
   "cell_type": "code",
   "execution_count": 22,
   "metadata": {},
   "outputs": [
    {
     "name": "stdout",
     "output_type": "stream",
     "text": [
      "The first 10 numbers of Fibonacci series are [ 1.  1.  2.  3.  5.  8. 13. 21. 34. 55.] .\n"
     ]
    }
   ],
   "source": [
    "import numpy as np\n",
    "\n",
    "fibonacciRange = np.arange(1, 11)\n",
    "fibonacciRangeLength = len(fibonacciRange)\n",
    "\n",
    "sqrtFibonacciRange = np.sqrt(5)\n",
    "fibonacciRangeAlpha = (1 + sqrtFibonacciRange) / 2\n",
    "fibonacciRangeBeta = (1 - sqrtFibonacciRange) / 2\n",
    "\n",
    "FibonacciSeries = np.rint(((fibonacciRangeAlpha ** fibonacciRange) - (fibonacciRangeBeta ** fibonacciRange)) / (sqrtFibonacciRange))\n",
    "print(\"The first {} numbers of Fibonacci series are {} .\" .format(fibonacciRangeLength, FibonacciSeries))\n"
   ]
  },
  {
   "cell_type": "markdown",
   "metadata": {},
   "source": [
    "# Creational Singleton Decorators Class Functions"
   ]
  },
  {
   "cell_type": "code",
   "execution_count": 23,
   "metadata": {},
   "outputs": [
    {
     "name": "stdout",
     "output_type": "stream",
     "text": [
      "root tor\n"
     ]
    }
   ],
   "source": [
    "def singleton(cls):\n",
    "    instances = dict()\n",
    "\n",
    "    def wrap(*args, **kwargs):\n",
    "        if cls not in instances:\n",
    "            instances[cls] = cls(*args, **kwargs)\n",
    "        return instances[cls]\n",
    "    return wrap \n",
    "\n",
    "@singleton\n",
    "class User(object):\n",
    "    def __init__(self, username, password):\n",
    "        self.username = username\n",
    "        self.password = password\n",
    "\n",
    "if __name__ == \"__main__\":\n",
    "    root = User(\"root\", 'tor')\n",
    "\n",
    "    print(root.username,root.password)"
   ]
  }
 ],
 "metadata": {
  "kernelspec": {
   "display_name": "Python 3 (ipykernel)",
   "language": "python",
   "name": "python3"
  },
  "language_info": {
   "codemirror_mode": {
    "name": "ipython",
    "version": 3
   },
   "file_extension": ".py",
   "mimetype": "text/x-python",
   "name": "python",
   "nbconvert_exporter": "python",
   "pygments_lexer": "ipython3",
   "version": "3.11.0"
  },
  "vscode": {
   "interpreter": {
    "hash": "e54a80bce3235bfcb2fe19bd6ab39f4ac566c7ad7a41832afdcb59ad68245e0a"
   }
  }
 },
 "nbformat": 4,
 "nbformat_minor": 2
}
