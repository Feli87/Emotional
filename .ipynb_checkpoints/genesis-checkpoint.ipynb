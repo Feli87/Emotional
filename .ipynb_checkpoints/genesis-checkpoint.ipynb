{
 "cells": [
  {
   "cell_type": "code",
   "execution_count": null,
   "metadata": {},
   "outputs": [],
   "source": []
  },
  {
   "cell_type": "markdown",
   "metadata": {},
   "source": [
    "## PyNum Hello Universes\n"
   ]
  },
  {
   "cell_type": "code",
   "execution_count": 134,
   "metadata": {},
   "outputs": [
    {
     "name": "stdout",
     "output_type": "stream",
     "text": [
      "Hello Universes\n"
     ]
    }
   ],
   "source": [
    "print('Hello Universes')"
   ]
  },
  {
   "cell_type": "code",
   "execution_count": 135,
   "metadata": {},
   "outputs": [
    {
     "name": "stdout",
     "output_type": "stream",
     "text": [
      "The first 16 numbers of Fibonacci series are [  1.   1.   2.   3.   5.   8.  13.  21.  34.  55.  89. 144. 233. 377.\n",
      " 610. 987.] .\n"
     ]
    }
   ],
   "source": [
    "import numpy as np\n",
    "\n",
    "a = np.arange(1, 17)\n",
    "lengthX = len(a)\n",
    "\n",
    "sqrtFive = np.sqrt(5)\n",
    "alpha = (1 + sqrtFive) / 2\n",
    "beta = (1 - sqrtFive) / 2\n",
    "\n",
    "FibonacciSeries = np.rint(((alpha ** a) - (beta ** a)) / (sqrtFive))\n",
    "print(\"The first {} numbers of Fibonacci series are {} .\" .format(lengthX, FibonacciSeries))\n"
   ]
  },
  {
   "cell_type": "markdown",
   "metadata": {},
   "source": [
    "# Creational Singleton Decorators Class Functions"
   ]
  },
  {
   "cell_type": "code",
   "execution_count": 136,
   "metadata": {},
   "outputs": [
    {
     "name": "stdout",
     "output_type": "stream",
     "text": [
      "root tor\n"
     ]
    }
   ],
   "source": [
    "def singleton(cls):\n",
    "    instances = dict()\n",
    "\n",
    "    def wrap(*args, **kwargs):\n",
    "        if cls not in instances:\n",
    "            instances[cls] = cls(*args, **kwargs)\n",
    "        return instances[cls]\n",
    "    return wrap \n",
    "\n",
    "@singleton\n",
    "class User(object):\n",
    "    def __init__(self, username, password):\n",
    "        self.username = username\n",
    "        self.password = password\n",
    "\n",
    "if __name__ == \"__main__\":\n",
    "    root = User(\"root\", 'tor')\n",
    "\n",
    "    print(root.username,root.password)"
   ]
  }
 ],
 "metadata": {
  "kernelspec": {
   "display_name": "Python 3 (ipykernel)",
   "language": "python",
   "name": "python3"
  },
  "language_info": {
   "codemirror_mode": {
    "name": "ipython",
    "version": 3
   },
   "file_extension": ".py",
   "mimetype": "text/x-python",
   "name": "python",
   "nbconvert_exporter": "python",
   "pygments_lexer": "ipython3",
   "version": "3.9.7"
  },
  "vscode": {
   "interpreter": {
    "hash": "e54a80bce3235bfcb2fe19bd6ab39f4ac566c7ad7a41832afdcb59ad68245e0a"
   }
  }
 },
 "nbformat": 4,
 "nbformat_minor": 2
}
